{
  "nbformat": 4,
  "nbformat_minor": 0,
  "metadata": {
    "colab": {
      "name": "Firedrake-demo-install.ipynb",
      "version": "0.3.2",
      "provenance": [],
      "include_colab_link": true
    },
    "kernelspec": {
      "name": "python3",
      "display_name": "Python 3"
    }
  },
  "cells": [
    {
      "cell_type": "markdown",
      "metadata": {
        "id": "view-in-github",
        "colab_type": "text"
      },
      "source": [
        "[View in Colaboratory](https://colab.research.google.com/github/johanjan/MOOC-HPFEM-source/blob/master/Firedrake_demo_install.ipynb)"
      ]
    },
    {
      "metadata": {
        "id": "6BbQkNdteSay",
        "colab_type": "code",
        "colab": {
          "base_uri": "https://localhost:8080/",
          "height": 233
        },
        "outputId": "81eb5eaa-da72-4ef0-e459-c3d834596de3"
      },
      "cell_type": "code",
      "source": [
        "!curl -O https://raw.githubusercontent.com/firedrakeproject/firedrake/master/scripts/firedrake-install\n",
        "!python3 firedrake-install\n",
        "!source firedrake/bin/activate\n",
        "!ls\n"
      ],
      "execution_count": 2,
      "outputs": [
        {
          "output_type": "stream",
          "text": [
            "  % Total    % Received % Xferd  Average Speed   Time    Time     Time  Current\n",
            "                                 Dload  Upload   Total   Spent    Left  Speed\n",
            "\r  0     0    0     0    0     0      0      0 --:--:-- --:--:-- --:--:--     0\r100 52362  100 52362    0     0   751k      0 --:--:-- --:--:-- --:--:--  763k\n",
            "Running firedrake-install\n",
            "The PYTHONPATH environment variable is set. This is probably an error.\n",
            "If you really want to use your own Python packages, please run again with the\n",
            "--honour-pythonpath option.\n",
            "\n",
            "\n",
            "\n",
            "Install log saved in firedrake-install.log\n",
            "/bin/bash: firedrake/bin/activate: No such file or directory\n",
            "firedrake-install  firedrake-install.log  log1\tlog2  sample_data\n"
          ],
          "name": "stdout"
        }
      ]
    }
  ]
}