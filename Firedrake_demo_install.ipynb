{
  "nbformat": 4,
  "nbformat_minor": 0,
  "metadata": {
    "colab": {
      "name": "Firedrake-demo-install.ipynb",
      "version": "0.3.2",
      "provenance": [],
      "include_colab_link": true
    },
    "kernelspec": {
      "name": "python3",
      "display_name": "Python 3"
    }
  },
  "cells": [
    {
      "cell_type": "markdown",
      "metadata": {
        "id": "view-in-github",
        "colab_type": "text"
      },
      "source": [
        "[View in Colaboratory](https://colab.research.google.com/github/johanjan/MOOC-HPFEM-source/blob/master/Firedrake_demo_install.ipynb)"
      ]
    },
    {
      "metadata": {
        "id": "6BbQkNdteSay",
        "colab_type": "code",
        "colab": {
          "base_uri": "https://localhost:8080/",
          "height": 1016
        },
        "outputId": "d786d9c9-84f8-4d0d-e626-887deca284ae"
      },
      "cell_type": "code",
      "source": [
        "!apt-get install sudo\n",
        "!curl -O https://raw.githubusercontent.com/firedrakeproject/firedrake/master/scripts/firedrake-install\n",
        "!python3 firedrake-install --honour-pythonpath\n",
        "!source firedrake/bin/activate\n"
      ],
      "execution_count": 1,
      "outputs": [
        {
          "output_type": "stream",
          "text": [
            "Reading package lists... Done\n",
            "Building dependency tree       \n",
            "Reading state information... Done\n",
            "The following NEW packages will be installed:\n",
            "  sudo\n",
            "0 upgraded, 1 newly installed, 0 to remove and 0 not upgraded.\n",
            "Need to get 415 kB of archives.\n",
            "After this operation, 1,733 kB of additional disk space will be used.\n",
            "Get:1 http://archive.ubuntu.com/ubuntu artful/main amd64 sudo amd64 1.8.20p2-1ubuntu1 [415 kB]\n",
            "Fetched 415 kB in 0s (653 kB/s)\n",
            "Selecting previously unselected package sudo.\n",
            "(Reading database ... 37314 files and directories currently installed.)\n",
            "Preparing to unpack .../sudo_1.8.20p2-1ubuntu1_amd64.deb ...\n",
            "Unpacking sudo (1.8.20p2-1ubuntu1) ...\n",
            "Setting up sudo (1.8.20p2-1ubuntu1) ...\n",
            "  % Total    % Received % Xferd  Average Speed   Time    Time     Time  Current\n",
            "                                 Dload  Upload   Total   Spent    Left  Speed\n",
            "100 52362  100 52362    0     0  52362      0  0:00:01 --:--:--  0:00:01  263k\n",
            "Running firedrake-install --honour-pythonpath\n",
            "Checking for presence of package build-essential...\n",
            "  installed.\n",
            "Checking for presence of package autoconf...\n",
            "  installed.\n",
            "Checking for presence of package automake...\n",
            "  installed.\n",
            "Checking for presence of package cmake...\n",
            "  installed.\n",
            "Checking for presence of package gfortran...\n",
            "  installed.\n",
            "Checking for presence of package git...\n",
            "  installed.\n",
            "Checking for presence of package libblas-dev...\n",
            "  installed.\n",
            "Checking for presence of package liblapack-dev...\n",
            "  installed.\n",
            "Checking for presence of package libopenmpi-dev...\n",
            "  installed.\n",
            "Checking for presence of package libtool...\n",
            "  installed.\n",
            "Checking for presence of package mercurial...\n",
            "  installed.\n",
            "Checking for presence of package openmpi-bin...\n",
            "  installed.\n",
            "Checking for presence of package python3-dev...\n",
            "  installed.\n",
            "Checking for presence of package python3-pip...\n",
            "  installed.\n",
            "Checking for presence of package python3-tk...\n",
            "  installed.\n",
            "Checking for presence of package python3-venv...\n",
            "  installed.\n",
            "Checking for presence of package zlib1g-dev...\n",
            "  installed.\n",
            "Checking for presence of package libboost-dev...\n",
            "  installed.\n",
            "Specified venv '/content/firedrake' already exists\n",
            "Can't install into existing venv '/content/firedrake'\n",
            "\n",
            "\n",
            "Install log saved in firedrake-install.log\n"
          ],
          "name": "stdout"
        }
      ]
    }
  ]
}