{
  "nbformat": 4,
  "nbformat_minor": 0,
  "metadata": {
    "colab": {
      "name": "Copy of HPFEM assignment template.ipynb",
      "version": "0.3.2",
      "provenance": [],
      "collapsed_sections": [],
      "toc_visible": true
    },
    "kernelspec": {
      "name": "python3",
      "display_name": "Python 3"
    },
    "accelerator": "GPU"
  },
  "cells": [
    {
      "metadata": {
        "id": "Pp4MM-33l_YS",
        "colab_type": "text"
      },
      "cell_type": "markdown",
      "source": [
        "### MOOC-HPFEM: Template notebook to be used to complete the assignments\n",
        "\n"
      ]
    },
    {
      "metadata": {
        "id": "cExGXg9z8A_r",
        "colab_type": "text"
      },
      "cell_type": "markdown",
      "source": [
        "The present notebook is meant to be a template for you to use while doing the assignments of the course. The first cell is meant to be run as-is and takes care of configuring the environment for you. The second cell is empty by default and is where you are supposed to paste the code you are given in the assignments so that you can modify and run it."
      ]
    },
    {
      "metadata": {
        "id": "-6QptgpcqKtw",
        "colab_type": "text"
      },
      "cell_type": "markdown",
      "source": [
        "### FEniCS DFS formulation to run and modify yourself"
      ]
    },
    {
      "metadata": {
        "id": "8A1ZaXJ88D7d",
        "colab_type": "code",
        "cellView": "both",
        "colab": {}
      },
      "cell_type": "code",
      "source": [
        "#@title\n",
        "# Setup system environment and define utility functions and variables\n",
        "from google.colab import files\n",
        "try:\n",
        "    from dolfin import *; from mshr import *\n",
        "except ImportError as e:\n",
        "    !apt-get install -y -qq software-properties-common python-software-properties module-init-tools\n",
        "    !add-apt-repository -y ppa:fenics-packages/fenics\n",
        "    !apt-get update -qq\n",
        "    !sed -e 's:artful:bionic:' /etc/apt/sources.list.d/fenics-packages-ubuntu-fenics-artful.list > temp\n",
        "    !mv temp /etc/apt/sources.list.d/fenics-packages-ubuntu-fenics-artful.list\n",
        "    !sed -e 's:artful:bionic:' /etc/apt/sources.list > temp\n",
        "    !mv temp /etc/apt/sources.list\n",
        "    !apt-get update -qq\n",
        "    !apt install -y --no-install-recommends fenics    \n",
        "    from dolfin import *; from mshr import *\n",
        "    \n",
        "import matplotlib.pyplot as plt\n",
        "from IPython.display import clear_output, display, update_display\n",
        "import time\n",
        "import dolfin.common.plotting as fenicsplot \n",
        "\n",
        "def plot_compact(u, t, stepcounter, QQ, pl, ax): # Compact plot utility function\n",
        "  if stepcounter == 0:\n",
        "    pl, ax = plt.subplots(); display(pl); clear_output(); # Plotting setup\n",
        "  if stepcounter % 5 == 0:\n",
        "    #u.set_allow_extrapolation(True)\n",
        "    uEuclidnorm = project(sqrt(inner(u, u)), QQ)\n",
        "    ax.cla()\n",
        "    fig = plt.gcf()\n",
        "    fig.set_size_inches(16, 4)\n",
        "    plt.subplot(1, 2, 1)\n",
        "    pp = plot(uEuclidnorm, cmap=\"coolwarm\")\n",
        "    plt.title(\"Solution at t=%f\" % (t)) # Plot norm of solution\n",
        "    if t == 0:\n",
        "      plt.axis(G)\n",
        "      plt.colorbar(pp, shrink=0.5)\n",
        "    plt.subplot(1, 2, 2);\n",
        "    if t == 0:\n",
        "      plot(QQ.mesh())\n",
        "      plt.title(\"Mesh\") # Plot mesh\n",
        "    plt.tight_layout(); dpl = display(pl, display_id=\"test\");\n",
        "  \n",
        "  return (pl, ax)"
      ],
      "execution_count": 0,
      "outputs": []
    },
    {
      "metadata": {
        "id": "a5thMeNv6cuG",
        "colab_type": "code",
        "colab": {}
      },
      "cell_type": "code",
      "source": [
        "# Paste your code here."
      ],
      "execution_count": 0,
      "outputs": []
    }
  ]
}