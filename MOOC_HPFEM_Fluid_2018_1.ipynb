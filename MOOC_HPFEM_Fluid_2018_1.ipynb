{
  "nbformat": 4,
  "nbformat_minor": 0,
  "metadata": {
    "colab": {
      "name": "MOOC-HPFEM-Fluid_2018.1.ipynb",
      "version": "0.3.2",
      "provenance": [],
      "collapsed_sections": [],
      "toc_visible": true,
      "include_colab_link": true
    },
    "kernelspec": {
      "name": "python3",
      "display_name": "Python 3"
    },
    "accelerator": "GPU"
  },
  "cells": [
    {
      "cell_type": "markdown",
      "metadata": {
        "id": "view-in-github",
        "colab_type": "text"
      },
      "source": [
        "[View in Colaboratory](https://colab.research.google.com/github/johanjan/MOOC-HPFEM-source/blob/master/MOOC_HPFEM_Fluid_2018_1.ipynb)"
      ]
    },
    {
      "metadata": {
        "id": "zQxsnI9BAq4D",
        "colab_type": "text"
      },
      "cell_type": "markdown",
      "source": [
        "#Welcome to the MOOC-HPFEM fluid simulation module!\n",
        "\n",
        "Here you will learn how to automatically solve the fundamental balance equations of momentum and mass to compute fluid flow, essential for science and technology in society.\n",
        "\n"
      ]
    },
    {
      "metadata": {
        "id": "wRHQBTTFDjYX",
        "colab_type": "text"
      },
      "cell_type": "markdown",
      "source": [
        "# New Section"
      ]
    },
    {
      "metadata": {
        "id": "cExGXg9z8A_r",
        "colab_type": "text"
      },
      "cell_type": "markdown",
      "source": [
        "<h3 id=\"direct-fem-simulation-dfs-methodology\"><strong>Direct FEM Simulation (DFS) methodology</strong></h3>\n",
        "<p>Developed over a 20+ year period by Johnson, Hoffman, Jansson, etc.</p>\n",
        "<p>Incompressible Navier-Stokes as model for low and high Reynolds number flow, such as blood flow and flight: <span class=\"math display\">\\[\\begin{array}{rcll} \n",
        "R(\\hat{u}) &;=&\n",
        "\\begin{cases}\n",
        "  p_t u + (u\\cdot \\nabla) u + \\nabla p - \\nu \\Delta u = 0\\\\\n",
        "  \\nabla \\cdot u = 0\n",
        "\\end{cases}\\\\\n",
        "u &;=& 0, x \\in \\Gamma \\quad (\\text{No-slip BC for low Reynolds number})\\\\\n",
        "u\\cdot n &;=& 0, x \\in \\Gamma \\quad (\\text{Slip BC for high Reynolds number})\\\\\n",
        "\\hat{u} &=& (u, p)\n",
        "\\end{array}\\]</span></p>\n",
        "<p>Weak residual <span class=\"math inline\">$r(\\hat{u}, \\hat{v}) = (R(\\hat{u}), \\hat{v})$</span></p>\n",
        "<dl>\n",
        "<dt>Space-time cG(1)cG(1) FEM with Galerkin/least squares stabilization</dt>\n",
        "<dd><p><span class=\"math display\">\\[\\begin{aligned}\n",
        "  &r(\\hat{U}, \\hat{v}) = (R(\\hat{U}), \\hat{v}) + (\\delta R(\\hat{U}), R(\\hat{v})) = 0\\\\\n",
        "  &\\delta = h, \\, \\forall \\hat{v} \\in \\hat{V}_h, \\, \\hat{U} \\in \\hat{V}_h\\end{aligned}\\]</span></p>\n",
        "</dd>\n",
        "\n",
        "The FEniCS formulation of DFS is given below, which you can run and modify yourself."
      ]
    },
    {
      "metadata": {
        "id": "a5thMeNv6cuG",
        "colab_type": "code",
        "colab": {
          "base_uri": "https://localhost:8080/",
          "height": 1033
        },
        "outputId": "d366ab70-32f1-419c-e4a9-00d362f6982c"
      },
      "cell_type": "code",
      "source": [
        "# Copyright (c) 2017-2018 Johan Jansson and David Kamensky \n",
        "\n",
        "from google.colab import files\n",
        "try:\n",
        "    from dolfin import *; from mshr import *\n",
        "except ImportError as e:\n",
        "    !apt-get install -y -qq software-properties-common python-software-properties module-init-tools\n",
        "    !add-apt-repository -y ppa:fenics-packages/fenics\n",
        "    !apt-get update -qq\n",
        "    !sed -e 's:artful:bionic:' /etc/apt/sources.list.d/fenics-packages-ubuntu-fenics-artful.list > temp\n",
        "    !mv temp /etc/apt/sources.list.d/fenics-packages-ubuntu-fenics-artful.list\n",
        "    !sed -e 's:artful:bionic:' /etc/apt/sources.list > temp\n",
        "    !mv temp /etc/apt/sources.list\n",
        "    !apt-get update -qq\n",
        "    !apt install -y --no-install-recommends fenics    \n",
        "    from dolfin import *; from mshr import *\n",
        "    #from fenics import *; from mshr import *\n",
        "    \n",
        "import matplotlib.pyplot as plt;\n",
        "#import plotly.plotly as plt\n",
        "from IPython.display import clear_output, display; import time; import dolfin.common.plotting as fenicsplot \n",
        "import time\n",
        "\n",
        "XMIN = 0.; XMAX = 4; YMIN = 0; YMAX = 1.; G = [XMIN, XMAX, YMIN, YMAX]; eps = 1e-5 # Geometry and mesh\n",
        "mresolution=30\n",
        "mesh = generate_mesh(Rectangle(Point(G[0], G[2]), Point(G[1], G[3])) - Circle(Point(.5, .5), .1), mresolution)\n",
        "\n",
        "# FEM functions\n",
        "VE = VectorElement(\"CG\", mesh.ufl_cell(), 1); QE = FiniteElement(\"CG\", mesh.ufl_cell(), 1); h = CellDiameter(mesh);\n",
        "\n",
        "# Make a mixed space\n",
        "WE = VE * QE; W = FunctionSpace(mesh, WE); V = FunctionSpace(mesh, VE); Q = FunctionSpace(mesh, QE)\n",
        "\n",
        "(v, q) = TestFunctions(W); w = Function(W); (u, p) = (as_vector((w[0], w[1])), w[2]); u0 = Function(V)\n",
        "\n",
        "def plot_compact(u, t, stepcounter): # Compact plot utility function\n",
        "    if stepcounter % 5 == 0:\n",
        "        uEuclidnorm = project(sqrt(inner(u, u)), Q); ax.cla(); fig = plt.gcf(); fig.set_size_inches(16, 4)\n",
        "        plt.subplot(1, 2, 1); plot(uEuclidnorm, scalarbar=True); plt.title(\"Velocity\") # Plot norm of velocity\n",
        "        if t == 0.: plt.axis(G)\n",
        "        plt.subplot(1, 2, 2);\n",
        "        if t == 0.: plot(mesh); plt.title(\"Mesh\") # Plot mesh\n",
        "        plt.suptitle(\"Lab 1 MOOC - t: %f\" % (t)); plt.tight_layout(); clear_output(wait=True); display(pl);\n",
        "    \n",
        "uin = Expression((\"4*(x[1]*(YMAX-x[1]))/(YMAX*YMAX)\", \"0.\"), YMAX=YMAX, element = V.ufl_element()) # Inflow velocity\n",
        "om = Expression(\"x[0] > XMAX - eps ? 1. : 0.\", XMAX=XMAX, eps=eps, element = Q.ufl_element()) # Mark regions for boundary conditions\n",
        "im = Expression(\"x[0] < XMIN + eps ? 1. : 0.\", XMIN=XMIN, eps=eps, element = Q.ufl_element())\n",
        "nm = Expression(\"x[0] > XMIN + eps && x[0] < XMAX - eps ? 1. : 0.\", XMIN=XMIN, XMAX=XMAX, eps=eps, element = Q.ufl_element())\n",
        "\n",
        "k = 0.1; nu = 1e-6; d = .2*h**(3./2.) # Timestep, viscosity and stabilization parameters\n",
        "t, T = 0., 10.; gamma = 10*1./h # Time interval and penalty parameter\n",
        "\n",
        "pl, ax = plt.subplots(); stepcounter = 0; timer0 = time.clock()\n",
        "\n",
        "theta = 0.5 # 0.5 - Midpoint rule, 1.0 - Implicit Euler, 0.0 - Explicit Euler\n",
        "while t < T: # Time-stepping loop\n",
        "    # Weak residual of stabilized FEM for Navier-Stokes eq.\n",
        "    um = theta*u + (1.0-theta)*u0\n",
        "    r = ((inner((u - u0)/k + grad(p) + grad(um)*um, v) + nu*inner(grad(um), grad(v)) + div(um)*q)*dx +\n",
        "        gamma*(om*p*q + im*inner(u - uin, v) + nm*inner(u, v))*ds + # Weak boundary conditions\n",
        "        d*(inner(grad(p) + grad(um)*um, grad(q) + grad(um)*v) + inner(div(um), div(v)))*dx) # Stabilization\n",
        "    solve(r==0, w)  # Solve the Navier-Stokes PDE (one timestep)\n",
        "\n",
        "    plot_compact(u, t, stepcounter) # Plot all quantities (see implementation above)\n",
        "\n",
        "    t += k; stepcounter += 1; u0 = project(u, V); # Shift to next timestep\n",
        "print(\"elapsed CPU time: \", (time.clock() - timer0))\n"
      ],
      "execution_count": 0,
      "outputs": [
        {
          "output_type": "stream",
          "text": [
            "W: Target Packages (main/binary-amd64/Packages) is configured multiple times in /etc/apt/sources.list.d/fenics-packages-ubuntu-fenics-artful.list:1 and /etc/apt/sources.list.d/fenics-packages-ubuntu-fenics-artful.list:2\n",
            "W: Target Packages (main/binary-all/Packages) is configured multiple times in /etc/apt/sources.list.d/fenics-packages-ubuntu-fenics-artful.list:1 and /etc/apt/sources.list.d/fenics-packages-ubuntu-fenics-artful.list:2\n",
            "W: Target Packages (main/binary-amd64/Packages) is configured multiple times in /etc/apt/sources.list.d/fenics-packages-ubuntu-fenics-artful.list:1 and /etc/apt/sources.list.d/fenics-packages-ubuntu-fenics-artful.list:4\n",
            "W: Target Packages (main/binary-all/Packages) is configured multiple times in /etc/apt/sources.list.d/fenics-packages-ubuntu-fenics-artful.list:1 and /etc/apt/sources.list.d/fenics-packages-ubuntu-fenics-artful.list:4\n",
            "gpg: unknown option 'show-only'\n",
            "gpg: invalid import options\n",
            "Got '0' fingerprints, expected only one\n",
            "Failed to add key.\n",
            "W: Target Packages (main/binary-amd64/Packages) is configured multiple times in /etc/apt/sources.list.d/fenics-packages-ubuntu-fenics-artful.list:1 and /etc/apt/sources.list.d/fenics-packages-ubuntu-fenics-artful.list:2\n",
            "W: Target Packages (main/binary-all/Packages) is configured multiple times in /etc/apt/sources.list.d/fenics-packages-ubuntu-fenics-artful.list:1 and /etc/apt/sources.list.d/fenics-packages-ubuntu-fenics-artful.list:2\n",
            "W: Target Packages (main/binary-amd64/Packages) is configured multiple times in /etc/apt/sources.list.d/fenics-packages-ubuntu-fenics-artful.list:1 and /etc/apt/sources.list.d/fenics-packages-ubuntu-fenics-artful.list:4\n",
            "W: Target Packages (main/binary-all/Packages) is configured multiple times in /etc/apt/sources.list.d/fenics-packages-ubuntu-fenics-artful.list:1 and /etc/apt/sources.list.d/fenics-packages-ubuntu-fenics-artful.list:4\n",
            "W: Target Packages (main/binary-amd64/Packages) is configured multiple times in /etc/apt/sources.list.d/fenics-packages-ubuntu-fenics-artful.list:1 and /etc/apt/sources.list.d/fenics-packages-ubuntu-fenics-artful.list:2\n",
            "W: Target Packages (main/binary-all/Packages) is configured multiple times in /etc/apt/sources.list.d/fenics-packages-ubuntu-fenics-artful.list:1 and /etc/apt/sources.list.d/fenics-packages-ubuntu-fenics-artful.list:2\n",
            "W: Target Packages (main/binary-amd64/Packages) is configured multiple times in /etc/apt/sources.list.d/fenics-packages-ubuntu-fenics-artful.list:1 and /etc/apt/sources.list.d/fenics-packages-ubuntu-fenics-artful.list:4\n",
            "W: Target Packages (main/binary-all/Packages) is configured multiple times in /etc/apt/sources.list.d/fenics-packages-ubuntu-fenics-artful.list:1 and /etc/apt/sources.list.d/fenics-packages-ubuntu-fenics-artful.list:4\n",
            "W: Target Packages (main/binary-amd64/Packages) is configured multiple times in /etc/apt/sources.list.d/fenics-packages-ubuntu-fenics-artful.list:1 and /etc/apt/sources.list.d/fenics-packages-ubuntu-fenics-artful.list:2\n",
            "W: Target Packages (main/binary-all/Packages) is configured multiple times in /etc/apt/sources.list.d/fenics-packages-ubuntu-fenics-artful.list:1 and /etc/apt/sources.list.d/fenics-packages-ubuntu-fenics-artful.list:2\n",
            "W: Target Packages (main/binary-amd64/Packages) is configured multiple times in /etc/apt/sources.list.d/fenics-packages-ubuntu-fenics-artful.list:1 and /etc/apt/sources.list.d/fenics-packages-ubuntu-fenics-artful.list:4\n",
            "W: Target Packages (main/binary-all/Packages) is configured multiple times in /etc/apt/sources.list.d/fenics-packages-ubuntu-fenics-artful.list:1 and /etc/apt/sources.list.d/fenics-packages-ubuntu-fenics-artful.list:4\n",
            "W: Target Packages (main/binary-amd64/Packages) is configured multiple times in /etc/apt/sources.list.d/fenics-packages-ubuntu-fenics-artful.list:1 and /etc/apt/sources.list.d/fenics-packages-ubuntu-fenics-artful.list:6\n",
            "W: Target Packages (main/binary-all/Packages) is configured multiple times in /etc/apt/sources.list.d/fenics-packages-ubuntu-fenics-artful.list:1 and /etc/apt/sources.list.d/fenics-packages-ubuntu-fenics-artful.list:6\n",
            "W: Target Packages (main/binary-amd64/Packages) is configured multiple times in /etc/apt/sources.list.d/fenics-packages-ubuntu-fenics-artful.list:1 and /etc/apt/sources.list.d/fenics-packages-ubuntu-fenics-artful.list:2\n",
            "W: Target Packages (main/binary-all/Packages) is configured multiple times in /etc/apt/sources.list.d/fenics-packages-ubuntu-fenics-artful.list:1 and /etc/apt/sources.list.d/fenics-packages-ubuntu-fenics-artful.list:2\n",
            "W: Target Packages (main/binary-amd64/Packages) is configured multiple times in /etc/apt/sources.list.d/fenics-packages-ubuntu-fenics-artful.list:1 and /etc/apt/sources.list.d/fenics-packages-ubuntu-fenics-artful.list:4\n",
            "W: Target Packages (main/binary-all/Packages) is configured multiple times in /etc/apt/sources.list.d/fenics-packages-ubuntu-fenics-artful.list:1 and /etc/apt/sources.list.d/fenics-packages-ubuntu-fenics-artful.list:4\n",
            "W: Target Packages (main/binary-amd64/Packages) is configured multiple times in /etc/apt/sources.list.d/fenics-packages-ubuntu-fenics-artful.list:1 and /etc/apt/sources.list.d/fenics-packages-ubuntu-fenics-artful.list:6\n",
            "W: Target Packages (main/binary-all/Packages) is configured multiple times in /etc/apt/sources.list.d/fenics-packages-ubuntu-fenics-artful.list:1 and /etc/apt/sources.list.d/fenics-packages-ubuntu-fenics-artful.list:6\n",
            "Reading package lists... Done\n",
            "Building dependency tree       \n",
            "Reading state information... Done\n",
            "fenics is already the newest version (1:2018.1.0.2~ppa1~bionic1).\n",
            "0 upgraded, 0 newly installed, 0 to remove and 245 not upgraded.\n",
            "W: Target Packages (main/binary-amd64/Packages) is configured multiple times in /etc/apt/sources.list.d/fenics-packages-ubuntu-fenics-artful.list:1 and /etc/apt/sources.list.d/fenics-packages-ubuntu-fenics-artful.list:2\n",
            "W: Target Packages (main/binary-all/Packages) is configured multiple times in /etc/apt/sources.list.d/fenics-packages-ubuntu-fenics-artful.list:1 and /etc/apt/sources.list.d/fenics-packages-ubuntu-fenics-artful.list:2\n",
            "W: Target Packages (main/binary-amd64/Packages) is configured multiple times in /etc/apt/sources.list.d/fenics-packages-ubuntu-fenics-artful.list:1 and /etc/apt/sources.list.d/fenics-packages-ubuntu-fenics-artful.list:4\n",
            "W: Target Packages (main/binary-all/Packages) is configured multiple times in /etc/apt/sources.list.d/fenics-packages-ubuntu-fenics-artful.list:1 and /etc/apt/sources.list.d/fenics-packages-ubuntu-fenics-artful.list:4\n",
            "W: Target Packages (main/binary-amd64/Packages) is configured multiple times in /etc/apt/sources.list.d/fenics-packages-ubuntu-fenics-artful.list:1 and /etc/apt/sources.list.d/fenics-packages-ubuntu-fenics-artful.list:6\n",
            "W: Target Packages (main/binary-all/Packages) is configured multiple times in /etc/apt/sources.list.d/fenics-packages-ubuntu-fenics-artful.list:1 and /etc/apt/sources.list.d/fenics-packages-ubuntu-fenics-artful.list:6\n"
          ],
          "name": "stdout"
        },
        {
          "output_type": "error",
          "ename": "ImportError",
          "evalue": "ignored",
          "traceback": [
            "\u001b[0;31m\u001b[0m",
            "\u001b[0;31mImportError\u001b[0mTraceback (most recent call last)",
            "\u001b[0;32m<ipython-input-1-f342ad91eb57>\u001b[0m in \u001b[0;36m<module>\u001b[0;34m()\u001b[0m\n\u001b[1;32m     12\u001b[0m     \u001b[0mget_ipython\u001b[0m\u001b[0;34m(\u001b[0m\u001b[0;34m)\u001b[0m\u001b[0;34m.\u001b[0m\u001b[0msystem\u001b[0m\u001b[0;34m(\u001b[0m\u001b[0;34mu'apt-get update -qq'\u001b[0m\u001b[0;34m)\u001b[0m\u001b[0;34m\u001b[0m\u001b[0m\n\u001b[1;32m     13\u001b[0m     \u001b[0mget_ipython\u001b[0m\u001b[0;34m(\u001b[0m\u001b[0;34m)\u001b[0m\u001b[0;34m.\u001b[0m\u001b[0msystem\u001b[0m\u001b[0;34m(\u001b[0m\u001b[0;34mu'apt install -y --no-install-recommends fenics    '\u001b[0m\u001b[0;34m)\u001b[0m\u001b[0;34m\u001b[0m\u001b[0m\n\u001b[0;32m---> 14\u001b[0;31m     \u001b[0;32mfrom\u001b[0m \u001b[0mdolfin\u001b[0m \u001b[0;32mimport\u001b[0m \u001b[0;34m*\u001b[0m\u001b[0;34m;\u001b[0m \u001b[0;32mfrom\u001b[0m \u001b[0mmshr\u001b[0m \u001b[0;32mimport\u001b[0m \u001b[0;34m*\u001b[0m\u001b[0;34m\u001b[0m\u001b[0m\n\u001b[0m\u001b[1;32m     15\u001b[0m     \u001b[0;31m#from fenics import *; from mshr import *\u001b[0m\u001b[0;34m\u001b[0m\u001b[0;34m\u001b[0m\u001b[0m\n\u001b[1;32m     16\u001b[0m \u001b[0;34m\u001b[0m\u001b[0m\n",
            "\u001b[0;31mImportError\u001b[0m: No module named dolfin",
            "",
            "\u001b[0;31m---------------------------------------------------------------------------\u001b[0;32m\nNOTE: If your import is failing due to a missing package, you can\nmanually install dependencies using either !pip or !apt.\n\nTo view examples of installing some common dependencies, click the\n\"Open Examples\" button below.\n\u001b[0;31m---------------------------------------------------------------------------\u001b[0m\n"
          ]
        }
      ]
    }
  ]
}
