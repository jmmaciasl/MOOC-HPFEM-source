{
  "nbformat": 4,
  "nbformat_minor": 0,
  "metadata": {
    "colab": {
      "name": "Copy of Copy of HPFEM assignment template.ipynb",
      "version": "0.3.2",
      "provenance": [],
      "collapsed_sections": [],
      "toc_visible": true,
      "include_colab_link": true
    },
    "kernelspec": {
      "name": "python3",
      "display_name": "Python 3"
    },
    "accelerator": "GPU"
  },
  "cells": [
    {
      "cell_type": "markdown",
      "metadata": {
        "id": "view-in-github",
        "colab_type": "text"
      },
      "source": [
        "<a href=\"https://colab.research.google.com/github/johanjan/MOOC-HPFEM-source/blob/master/MOOC_HPFEM_ErrorEstimate.ipynb\" target=\"_parent\"><img src=\"https://colab.research.google.com/assets/colab-badge.svg\" alt=\"Open In Colab\"/></a>"
      ]
    },
    {
      "metadata": {
        "id": "Pp4MM-33l_YS",
        "colab_type": "text"
      },
      "cell_type": "markdown",
      "source": [
        "### MOOC-HPFEM: Template notebook to be used to complete the assignments\n",
        "\n"
      ]
    },
    {
      "metadata": {
        "id": "cExGXg9z8A_r",
        "colab_type": "text"
      },
      "cell_type": "markdown",
      "source": [
        "The present notebook is meant to be a template for you to use while doing the assignments of the course. The first cell is meant to be run as-is and takes care of configuring the environment for you. The second cell is empty by default and is where you are supposed to paste the code you are given in the assignments so that you can modify and run it."
      ]
    },
    {
      "metadata": {
        "id": "-6QptgpcqKtw",
        "colab_type": "text"
      },
      "cell_type": "markdown",
      "source": [
        "### FEniCS DFS formulation to run and modify yourself"
      ]
    },
    {
      "metadata": {
        "id": "8A1ZaXJ88D7d",
        "colab_type": "code",
        "cellView": "both",
        "colab": {}
      },
      "cell_type": "code",
      "source": [
        "#@title\n",
        "# Setup system environment and define utility functions and variables\n",
        "from google.colab import files\n",
        "try:\n",
        "    from dolfin import *; from mshr import *\n",
        "except ImportError as e:\n",
        "    !apt-get install -y -qq software-properties-common python-software-properties module-init-tools\n",
        "    !add-apt-repository -y ppa:fenics-packages/fenics\n",
        "    !apt-get update -qq\n",
        "    !sed -e 's:artful:bionic:' /etc/apt/sources.list.d/fenics-packages-ubuntu-fenics-artful.list > temp\n",
        "    !mv temp /etc/apt/sources.list.d/fenics-packages-ubuntu-fenics-artful.list\n",
        "    !sed -e 's:artful:bionic:' /etc/apt/sources.list > temp\n",
        "    !mv temp /etc/apt/sources.list\n",
        "    !apt-get update -qq\n",
        "    !apt install -y --no-install-recommends fenics    \n",
        "    from dolfin import *; from mshr import *\n",
        "    \n",
        "import matplotlib.pyplot as plt\n",
        "from IPython.display import clear_output, display, update_display\n",
        "import time\n",
        "import dolfin.common.plotting as fenicsplot \n",
        "\n",
        "def plot_compact(u, t, stepcounter, QQ, pl, ax): # Compact plot utility function\n",
        "  if stepcounter == 0:\n",
        "    pl, ax = plt.subplots(); display(pl); clear_output(); # Plotting setup\n",
        "  if stepcounter % 5 == 0:\n",
        "    #u.set_allow_extrapolation(True)\n",
        "    uEuclidnorm = project(sqrt(inner(u, u)), QQ)\n",
        "    ax.cla()\n",
        "    fig = plt.gcf()\n",
        "    fig.set_size_inches(16, 4)\n",
        "    plt.subplot(1, 2, 1)\n",
        "    pp = plot(uEuclidnorm, cmap=\"coolwarm\")\n",
        "    plt.title(\"Solution at t=%f\" % (t)) # Plot norm of solution\n",
        "    if t == 0:\n",
        "      plt.axis(G)\n",
        "      plt.colorbar(pp, shrink=0.5)\n",
        "    plt.subplot(1, 2, 2);\n",
        "    if t == 0:\n",
        "      plot(QQ.mesh())\n",
        "      plt.title(\"Mesh\") # Plot mesh\n",
        "    plt.tight_layout(); dpl = display(pl, display_id=\"test\");\n",
        "  \n",
        "  return (pl, ax)\n",
        "\n",
        "def plot_compact_static(u, QQ, label = \"Velocity\"): # Compact plot utility function\n",
        "  pl, ax = plt.subplots();\n",
        "  uEuclidnorm = project(sqrt(inner(u, u)), QQ); ax.cla(); fig = plt.gcf(); fig.set_size_inches(16, 4)\n",
        "  plt.subplot(1, 2, 1); pp = plot(uEuclidnorm, cmap=\"coolwarm\"); plt.title(\"%s\" % (label)) # Plot norm of velocity\n",
        "  plt.axis(G); plt.colorbar(pp, shrink=0.5); \n",
        "  plt.subplot(1, 2, 2);\n",
        "  plot(QQ.mesh()); plt.title(\"Mesh\") # Plot mesh\n",
        "  plt.tight_layout(); dpl = display(pl, display_id=\"test\");\n",
        "  \n",
        "  return (pl, ax)\n",
        "\n"
      ],
      "execution_count": 0,
      "outputs": []
    },
    {
      "metadata": {
        "id": "a5thMeNv6cuG",
        "colab_type": "code",
        "colab": {}
      },
      "cell_type": "code",
      "source": [
        "esolution=10\n",
        "mesh = UnitSquareMesh(resolution, resolution)\n",
        "\n",
        "def AllBoundary(x, on_boundary):\n",
        "    return on_boundary\n",
        "\n",
        "zero = Constant(0.0)\n",
        "\n",
        "def aform(u, v):\n",
        "    return inner(grad(u), grad(v))\n",
        "\n",
        "def Lform(f, v):\n",
        "    return f*v\n",
        "\n",
        "### Primal problem\n",
        "f = Expression(\"32.*x[0]*(1. - x[0])+32.*x[1]*(1. - x[1])\", domain=mesh, degree=5)\n",
        "ue = Expression(\"16.*x[0]*(1. - x[0])*x[1]*(1. - x[1])\", domain=mesh, degree=5)\n",
        "\n",
        "Qp = FunctionSpace(mesh,'CG',1);\n",
        "bcp = DirichletBC(Qp, zero, AllBoundary)\n",
        "\n",
        "u = TrialFunction(Qp);\n",
        "v = TestFunction(Qp);\n",
        "\n",
        "ap = aform(u, v)*dx \n",
        "Lp = Lform(f, v)*dx \n",
        "\n",
        "U = Function(Qp)\n",
        "solve(ap == Lp, U, bcp)\n",
        "\n",
        "### Dual problem\n",
        "Qd = FunctionSpace(mesh, 'CG', 2);\n",
        "psi = Constant(1.0)\n",
        "bcd = DirichletBC(Qd, zero, AllBoundary)\n",
        "\n",
        "w = TestFunction(Qd);\n",
        "phi = TrialFunction(Qd);\n",
        "ad = aform(w, phi)*dx \n",
        "Ld = Lform(psi, w)*dx\n",
        "phi = Function(Qd)\n",
        "solve(ad == Ld, phi, bcd)\n"
      ],
      "execution_count": 0,
      "outputs": []
    }
  ]
}